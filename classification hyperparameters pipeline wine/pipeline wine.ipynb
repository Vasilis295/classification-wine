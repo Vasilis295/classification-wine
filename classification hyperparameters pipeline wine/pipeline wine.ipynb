{
 "cells": [
  {
   "cell_type": "code",
   "execution_count": 1,
   "metadata": {},
   "outputs": [],
   "source": [
    "import numpy as np\n",
    "import pandas as pd"
   ]
  },
  {
   "cell_type": "code",
   "execution_count": 2,
   "metadata": {},
   "outputs": [],
   "source": [
    "df=pd.read_csv('wine.csv')"
   ]
  },
  {
   "cell_type": "code",
   "execution_count": 3,
   "metadata": {},
   "outputs": [],
   "source": [
    "df['quality']=df['quality'].replace('bad',0)"
   ]
  },
  {
   "cell_type": "code",
   "execution_count": 4,
   "metadata": {},
   "outputs": [],
   "source": [
    "df['quality']=df['quality'].replace('good',1)"
   ]
  },
  {
   "cell_type": "code",
   "execution_count": 5,
   "metadata": {},
   "outputs": [],
   "source": [
    "y=df['quality']"
   ]
  },
  {
   "cell_type": "code",
   "execution_count": null,
   "metadata": {},
   "outputs": [],
   "source": [
    "X=df.drop(['quality'],1)"
   ]
  },
  {
   "cell_type": "code",
   "execution_count": 7,
   "metadata": {},
   "outputs": [],
   "source": [
    "from sklearn.preprocessing import MinMaxScaler\n",
    "\n",
    "scaler = MinMaxScaler(feature_range = (0,1))"
   ]
  },
  {
   "cell_type": "code",
   "execution_count": 34,
   "metadata": {},
   "outputs": [],
   "source": [
    "from sklearn import datasets\n",
    "from sklearn.metrics import confusion_matrix\n",
    "from sklearn.model_selection import train_test_split\n",
    "from sklearn.preprocessing import StandardScaler\n",
    "from sklearn.pipeline import Pipeline\n",
    "from sklearn.ensemble import RandomForestClassifier\n",
    "from sklearn.metrics import accuracy_score\n",
    "from sklearn.metrics import accuracy_score,precision_score,recall_score,f1_score\n",
    "from sklearn.metrics import confusion_matrix, classification_report\n",
    "from sklearn.linear_model import LogisticRegression"
   ]
  },
  {
   "cell_type": "code",
   "execution_count": 9,
   "metadata": {},
   "outputs": [],
   "source": [
    "X_train, X_test, y_train, y_test = train_test_split(X, y, test_size=.20, random_state=1,stratify=y)"
   ]
  },
  {
   "cell_type": "code",
   "execution_count": 10,
   "metadata": {},
   "outputs": [],
   "source": [
    "scaler.fit(X_train)\n",
    "X_train = scaler.fit_transform(X_train)\n",
    "X_test = scaler.transform(X_test)"
   ]
  },
  {
   "cell_type": "code",
   "execution_count": 16,
   "metadata": {},
   "outputs": [],
   "source": [
    "param_grid={'n_estimators': [100,800],\n",
    " 'min_samples_split': [2,3],\n",
    " 'min_samples_leaf': [1,2],\n",
    " 'max_features': ['auto','sqrt'],\n",
    " 'max_depth': [100,110],\n",
    " 'bootstrap': [True,False]}"
   ]
  },
  {
   "cell_type": "code",
   "execution_count": 14,
   "metadata": {},
   "outputs": [],
   "source": [
    "from sklearn.model_selection import RandomizedSearchCV"
   ]
  },
  {
   "cell_type": "code",
   "execution_count": 24,
   "metadata": {},
   "outputs": [],
   "source": [
    "from sklearn.model_selection import GridSearchCV"
   ]
  },
  {
   "cell_type": "code",
   "execution_count": 17,
   "metadata": {},
   "outputs": [],
   "source": [
    "rf = RandomForestClassifier()\n",
    "rf_random = RandomizedSearchCV(estimator = rf, param_distributions = param_grid, n_iter = 100, cv = 3, verbose=2, random_state=42, n_jobs = -1)"
   ]
  },
  {
   "cell_type": "code",
   "execution_count": 19,
   "metadata": {},
   "outputs": [],
   "source": [
    "pipe = Pipeline([( ('classifier', rf_random))])"
   ]
  },
  {
   "cell_type": "code",
   "execution_count": null,
   "metadata": {},
   "outputs": [],
   "source": [
    "pipe.fit(X_train,y_train)"
   ]
  },
  {
   "cell_type": "code",
   "execution_count": 21,
   "metadata": {},
   "outputs": [
    {
     "data": {
      "text/plain": [
       "0.784375"
      ]
     },
     "execution_count": 21,
     "metadata": {},
     "output_type": "execute_result"
    }
   ],
   "source": [
    "pipe.score(X_test,y_test)"
   ]
  },
  {
   "cell_type": "code",
   "execution_count": 22,
   "metadata": {},
   "outputs": [],
   "source": [
    "pred = pipe.predict(X_test)"
   ]
  },
  {
   "cell_type": "code",
   "execution_count": 23,
   "metadata": {},
   "outputs": [
    {
     "data": {
      "text/plain": [
       "0.7825894307742298"
      ]
     },
     "execution_count": 23,
     "metadata": {},
     "output_type": "execute_result"
    }
   ],
   "source": [
    "f1_score(y_test, pred, average='macro')"
   ]
  },
  {
   "cell_type": "code",
   "execution_count": 26,
   "metadata": {},
   "outputs": [],
   "source": [
    "rf = RandomForestClassifier()\n",
    "rf_grid = GridSearchCV(estimator = rf, param_grid = param_grid, \n",
    "                          cv = 3, n_jobs = -1, verbose = 2)"
   ]
  },
  {
   "cell_type": "code",
   "execution_count": 27,
   "metadata": {},
   "outputs": [],
   "source": [
    "pipe1 = Pipeline([( ('classifier', rf_grid))])"
   ]
  },
  {
   "cell_type": "code",
   "execution_count": 28,
   "metadata": {},
   "outputs": [
    {
     "name": "stdout",
     "output_type": "stream",
     "text": [
      "Fitting 3 folds for each of 64 candidates, totalling 192 fits\n"
     ]
    },
    {
     "data": {
      "text/plain": [
       "Pipeline(steps=[('classifier',\n",
       "                 GridSearchCV(cv=3, estimator=RandomForestClassifier(),\n",
       "                              n_jobs=-1,\n",
       "                              param_grid={'bootstrap': [True, False],\n",
       "                                          'max_depth': [100, 110],\n",
       "                                          'max_features': ['auto', 'sqrt'],\n",
       "                                          'min_samples_leaf': [1, 2],\n",
       "                                          'min_samples_split': [2, 3],\n",
       "                                          'n_estimators': [100, 800]},\n",
       "                              verbose=2))])"
      ]
     },
     "execution_count": 28,
     "metadata": {},
     "output_type": "execute_result"
    }
   ],
   "source": [
    "pipe1.fit(X_train,y_train)"
   ]
  },
  {
   "cell_type": "code",
   "execution_count": 29,
   "metadata": {},
   "outputs": [
    {
     "data": {
      "text/plain": [
       "0.79375"
      ]
     },
     "execution_count": 29,
     "metadata": {},
     "output_type": "execute_result"
    }
   ],
   "source": [
    "pipe1.score(X_test,y_test)"
   ]
  },
  {
   "cell_type": "code",
   "execution_count": 30,
   "metadata": {},
   "outputs": [],
   "source": [
    "pred = pipe1.predict(X_test)"
   ]
  },
  {
   "cell_type": "code",
   "execution_count": 31,
   "metadata": {},
   "outputs": [
    {
     "data": {
      "text/plain": [
       "0.7913950456323338"
      ]
     },
     "execution_count": 31,
     "metadata": {},
     "output_type": "execute_result"
    }
   ],
   "source": [
    "f1_score(y_test, pred, average='macro')"
   ]
  },
  {
   "cell_type": "code",
   "execution_count": 32,
   "metadata": {},
   "outputs": [],
   "source": [
    "param_grid_lr = {\n",
    "    'max_iter': [20, 50, 100, 200, 500, 1000],                      \n",
    "    'solver': ['newton-cg', 'lbfgs', 'liblinear', 'sag', 'saga'],   \n",
    "    'class_weight': ['balanced']                                    \n",
    "}"
   ]
  },
  {
   "cell_type": "code",
   "execution_count": 35,
   "metadata": {},
   "outputs": [],
   "source": [
    "lr=LogisticRegression()"
   ]
  },
  {
   "cell_type": "code",
   "execution_count": 36,
   "metadata": {},
   "outputs": [],
   "source": [
    "lr_grid = GridSearchCV(estimator = lr, param_grid = param_grid_lr, \n",
    "                          cv = 3, n_jobs = -1, verbose = 2)"
   ]
  },
  {
   "cell_type": "code",
   "execution_count": 37,
   "metadata": {},
   "outputs": [],
   "source": [
    "pipe2 = Pipeline([( ('classifier', lr_grid))])"
   ]
  },
  {
   "cell_type": "code",
   "execution_count": 38,
   "metadata": {},
   "outputs": [
    {
     "name": "stdout",
     "output_type": "stream",
     "text": [
      "Fitting 3 folds for each of 30 candidates, totalling 90 fits\n"
     ]
    },
    {
     "data": {
      "text/plain": [
       "Pipeline(steps=[('classifier',\n",
       "                 GridSearchCV(cv=3, estimator=LogisticRegression(), n_jobs=-1,\n",
       "                              param_grid={'class_weight': ['balanced'],\n",
       "                                          'max_iter': [20, 50, 100, 200, 500,\n",
       "                                                       1000],\n",
       "                                          'solver': ['newton-cg', 'lbfgs',\n",
       "                                                     'liblinear', 'sag',\n",
       "                                                     'saga']},\n",
       "                              verbose=2))])"
      ]
     },
     "execution_count": 38,
     "metadata": {},
     "output_type": "execute_result"
    }
   ],
   "source": [
    "pipe2.fit(X_train,y_train)"
   ]
  },
  {
   "cell_type": "code",
   "execution_count": 39,
   "metadata": {},
   "outputs": [
    {
     "data": {
      "text/plain": [
       "0.70625"
      ]
     },
     "execution_count": 39,
     "metadata": {},
     "output_type": "execute_result"
    }
   ],
   "source": [
    "pipe2.score(X_test,y_test)"
   ]
  },
  {
   "cell_type": "code",
   "execution_count": 40,
   "metadata": {},
   "outputs": [],
   "source": [
    "pred = pipe2.predict(X_test)"
   ]
  },
  {
   "cell_type": "code",
   "execution_count": 41,
   "metadata": {},
   "outputs": [
    {
     "data": {
      "text/plain": [
       "0.7059628543499511"
      ]
     },
     "execution_count": 41,
     "metadata": {},
     "output_type": "execute_result"
    }
   ],
   "source": [
    "f1_score(y_test, pred, average='macro')"
   ]
  },
  {
   "cell_type": "code",
   "execution_count": null,
   "metadata": {},
   "outputs": [],
   "source": [
    "from sklearn.ensemble import BaggingClassifier\n",
    "from sklearn.tree import DecisionTreeClassifier\n",
    "import xgboost as xgb"
   ]
  },
  {
   "cell_type": "code",
   "execution_count": 43,
   "metadata": {},
   "outputs": [],
   "source": [
    "bc = BaggingClassifier()"
   ]
  },
  {
   "cell_type": "code",
   "execution_count": 46,
   "metadata": {},
   "outputs": [],
   "source": [
    "n_estimators = [100, 300, 500, 800, 1200]\n",
    "max_samples = [5, 10, 25, 50, 100]\n",
    "max_features = [1, 2, 5, 10, 13]\n",
    "grid_par = dict(n_estimators = n_estimators, max_samples = max_samples, \n",
    "              max_features = max_features)\n",
    "bc_grid = GridSearchCV(bc, grid_par, cv = 3, verbose = 1, n_jobs = -1)"
   ]
  },
  {
   "cell_type": "code",
   "execution_count": 47,
   "metadata": {},
   "outputs": [],
   "source": [
    "pipe3 = Pipeline([( ('classifier', bc_grid))])"
   ]
  },
  {
   "cell_type": "code",
   "execution_count": null,
   "metadata": {},
   "outputs": [],
   "source": [
    "pipe3.fit(X_train, y_train)"
   ]
  },
  {
   "cell_type": "code",
   "execution_count": 49,
   "metadata": {},
   "outputs": [
    {
     "data": {
      "text/plain": [
       "0.734375"
      ]
     },
     "execution_count": 49,
     "metadata": {},
     "output_type": "execute_result"
    }
   ],
   "source": [
    "pipe3.score(X_test,y_test)"
   ]
  },
  {
   "cell_type": "code",
   "execution_count": 50,
   "metadata": {},
   "outputs": [],
   "source": [
    "pred = pipe3.predict(X_test)"
   ]
  },
  {
   "cell_type": "code",
   "execution_count": 51,
   "metadata": {},
   "outputs": [
    {
     "data": {
      "text/plain": [
       "0.7332261006875312"
      ]
     },
     "execution_count": 51,
     "metadata": {},
     "output_type": "execute_result"
    }
   ],
   "source": [
    "f1_score(y_test, pred, average='macro')"
   ]
  },
  {
   "cell_type": "code",
   "execution_count": 52,
   "metadata": {},
   "outputs": [],
   "source": [
    "from xgboost.sklearn import XGBClassifier"
   ]
  },
  {
   "cell_type": "code",
   "execution_count": 53,
   "metadata": {},
   "outputs": [],
   "source": [
    "xgb=XGBClassifier()"
   ]
  },
  {
   "cell_type": "code",
   "execution_count": 54,
   "metadata": {},
   "outputs": [],
   "source": [
    "param={\"learning_rate\"    : [0.05, 0.15, 0.25, 0.30 ] ,\n",
    " \"max_depth\"        : [ 3, 5, 6,10,15],\n",
    " \"min_child_weight\" : [ 1, 3, 5, 7 ],\n",
    " \"gamma\"            : [ 0.1 , 0.3, 0.4 ],\n",
    " \"colsample_bytree\" : [ 0.3,  0.5 , 0.7 ] }"
   ]
  },
  {
   "cell_type": "code",
   "execution_count": 55,
   "metadata": {},
   "outputs": [],
   "source": [
    "xgb_grid = GridSearchCV(xgb, param, cv = 3, verbose = 1, n_jobs = -1)"
   ]
  },
  {
   "cell_type": "code",
   "execution_count": 56,
   "metadata": {},
   "outputs": [],
   "source": [
    "pipe4 = Pipeline([( ('classifier', xgb_grid))])"
   ]
  },
  {
   "cell_type": "code",
   "execution_count": null,
   "metadata": {},
   "outputs": [],
   "source": [
    "pipe4.fit(X_train, y_train)"
   ]
  },
  {
   "cell_type": "code",
   "execution_count": 58,
   "metadata": {},
   "outputs": [
    {
     "data": {
      "text/plain": [
       "0.7875"
      ]
     },
     "execution_count": 58,
     "metadata": {},
     "output_type": "execute_result"
    }
   ],
   "source": [
    "pipe4.score(X_test,y_test)"
   ]
  },
  {
   "cell_type": "code",
   "execution_count": 59,
   "metadata": {},
   "outputs": [],
   "source": [
    "pred = pipe4.predict(X_test)"
   ]
  },
  {
   "cell_type": "code",
   "execution_count": 60,
   "metadata": {},
   "outputs": [
    {
     "data": {
      "text/plain": [
       "0.784460557074369"
      ]
     },
     "execution_count": 60,
     "metadata": {},
     "output_type": "execute_result"
    }
   ],
   "source": [
    "f1_score(y_test, pred, average='macro')"
   ]
  },
  {
   "cell_type": "code",
   "execution_count": 61,
   "metadata": {},
   "outputs": [],
   "source": [
    "from sklearn.svm import SVC"
   ]
  },
  {
   "cell_type": "code",
   "execution_count": 62,
   "metadata": {},
   "outputs": [],
   "source": [
    "param_grid = {'C': [0.1, 1, 10, 100, 1000],\n",
    "              'gamma': [1, 0.1, 0.01, 0.001, 0.0001],\n",
    "              'kernel': ['rbf']}"
   ]
  },
  {
   "cell_type": "code",
   "execution_count": 65,
   "metadata": {},
   "outputs": [],
   "source": [
    "svc_grid=grid = GridSearchCV(SVC(), param_grid, refit = True, cv=3, verbose = 3)"
   ]
  },
  {
   "cell_type": "code",
   "execution_count": 66,
   "metadata": {},
   "outputs": [],
   "source": [
    "pipe5 = Pipeline([( ('classifier', svc_grid))])"
   ]
  },
  {
   "cell_type": "code",
   "execution_count": 67,
   "metadata": {},
   "outputs": [
    {
     "name": "stdout",
     "output_type": "stream",
     "text": [
      "Fitting 3 folds for each of 25 candidates, totalling 75 fits\n",
      "[CV 1/3] END ........C=0.1, gamma=1, kernel=rbf;, score=0.724 total time=   0.1s\n",
      "[CV 2/3] END ........C=0.1, gamma=1, kernel=rbf;, score=0.728 total time=   0.1s\n",
      "[CV 3/3] END ........C=0.1, gamma=1, kernel=rbf;, score=0.756 total time=   0.1s\n",
      "[CV 1/3] END ......C=0.1, gamma=0.1, kernel=rbf;, score=0.534 total time=   0.0s\n",
      "[CV 2/3] END ......C=0.1, gamma=0.1, kernel=rbf;, score=0.535 total time=   0.0s\n",
      "[CV 3/3] END ......C=0.1, gamma=0.1, kernel=rbf;, score=0.535 total time=   0.1s\n",
      "[CV 1/3] END .....C=0.1, gamma=0.01, kernel=rbf;, score=0.534 total time=   0.0s\n",
      "[CV 2/3] END .....C=0.1, gamma=0.01, kernel=rbf;, score=0.535 total time=   0.1s\n",
      "[CV 3/3] END .....C=0.1, gamma=0.01, kernel=rbf;, score=0.535 total time=   0.1s\n",
      "[CV 1/3] END ....C=0.1, gamma=0.001, kernel=rbf;, score=0.534 total time=   0.0s\n",
      "[CV 2/3] END ....C=0.1, gamma=0.001, kernel=rbf;, score=0.535 total time=   0.1s\n",
      "[CV 3/3] END ....C=0.1, gamma=0.001, kernel=rbf;, score=0.535 total time=   0.1s\n",
      "[CV 1/3] END ...C=0.1, gamma=0.0001, kernel=rbf;, score=0.534 total time=   0.1s\n",
      "[CV 2/3] END ...C=0.1, gamma=0.0001, kernel=rbf;, score=0.535 total time=   0.1s\n",
      "[CV 3/3] END ...C=0.1, gamma=0.0001, kernel=rbf;, score=0.535 total time=   0.1s\n",
      "[CV 1/3] END ..........C=1, gamma=1, kernel=rbf;, score=0.742 total time=   0.0s\n",
      "[CV 2/3] END ..........C=1, gamma=1, kernel=rbf;, score=0.730 total time=   0.0s\n",
      "[CV 3/3] END ..........C=1, gamma=1, kernel=rbf;, score=0.763 total time=   0.0s\n",
      "[CV 1/3] END ........C=1, gamma=0.1, kernel=rbf;, score=0.728 total time=   0.1s\n",
      "[CV 2/3] END ........C=1, gamma=0.1, kernel=rbf;, score=0.725 total time=   0.0s\n",
      "[CV 3/3] END ........C=1, gamma=0.1, kernel=rbf;, score=0.758 total time=   0.0s\n",
      "[CV 1/3] END .......C=1, gamma=0.01, kernel=rbf;, score=0.534 total time=   0.1s\n",
      "[CV 2/3] END .......C=1, gamma=0.01, kernel=rbf;, score=0.535 total time=   0.0s\n",
      "[CV 3/3] END .......C=1, gamma=0.01, kernel=rbf;, score=0.535 total time=   0.0s\n",
      "[CV 1/3] END ......C=1, gamma=0.001, kernel=rbf;, score=0.534 total time=   0.0s\n",
      "[CV 2/3] END ......C=1, gamma=0.001, kernel=rbf;, score=0.535 total time=   0.0s\n",
      "[CV 3/3] END ......C=1, gamma=0.001, kernel=rbf;, score=0.535 total time=   0.1s\n",
      "[CV 1/3] END .....C=1, gamma=0.0001, kernel=rbf;, score=0.534 total time=   0.0s\n",
      "[CV 2/3] END .....C=1, gamma=0.0001, kernel=rbf;, score=0.535 total time=   0.1s\n",
      "[CV 3/3] END .....C=1, gamma=0.0001, kernel=rbf;, score=0.535 total time=   0.0s\n",
      "[CV 1/3] END .........C=10, gamma=1, kernel=rbf;, score=0.759 total time=   0.0s\n",
      "[CV 2/3] END .........C=10, gamma=1, kernel=rbf;, score=0.728 total time=   0.0s\n",
      "[CV 3/3] END .........C=10, gamma=1, kernel=rbf;, score=0.751 total time=   0.0s\n",
      "[CV 1/3] END .......C=10, gamma=0.1, kernel=rbf;, score=0.726 total time=   0.0s\n",
      "[CV 2/3] END .......C=10, gamma=0.1, kernel=rbf;, score=0.730 total time=   0.0s\n",
      "[CV 3/3] END .......C=10, gamma=0.1, kernel=rbf;, score=0.765 total time=   0.0s\n",
      "[CV 1/3] END ......C=10, gamma=0.01, kernel=rbf;, score=0.726 total time=   0.0s\n",
      "[CV 2/3] END ......C=10, gamma=0.01, kernel=rbf;, score=0.728 total time=   0.0s\n",
      "[CV 3/3] END ......C=10, gamma=0.01, kernel=rbf;, score=0.758 total time=   0.0s\n",
      "[CV 1/3] END .....C=10, gamma=0.001, kernel=rbf;, score=0.534 total time=   0.0s\n",
      "[CV 2/3] END .....C=10, gamma=0.001, kernel=rbf;, score=0.535 total time=   0.1s\n",
      "[CV 3/3] END .....C=10, gamma=0.001, kernel=rbf;, score=0.535 total time=   0.0s\n",
      "[CV 1/3] END ....C=10, gamma=0.0001, kernel=rbf;, score=0.534 total time=   0.0s\n",
      "[CV 2/3] END ....C=10, gamma=0.0001, kernel=rbf;, score=0.535 total time=   0.0s\n",
      "[CV 3/3] END ....C=10, gamma=0.0001, kernel=rbf;, score=0.535 total time=   0.1s\n",
      "[CV 1/3] END ........C=100, gamma=1, kernel=rbf;, score=0.763 total time=   0.1s\n",
      "[CV 2/3] END ........C=100, gamma=1, kernel=rbf;, score=0.732 total time=   0.0s\n",
      "[CV 3/3] END ........C=100, gamma=1, kernel=rbf;, score=0.761 total time=   0.0s\n",
      "[CV 1/3] END ......C=100, gamma=0.1, kernel=rbf;, score=0.747 total time=   0.0s\n",
      "[CV 2/3] END ......C=100, gamma=0.1, kernel=rbf;, score=0.723 total time=   0.0s\n",
      "[CV 3/3] END ......C=100, gamma=0.1, kernel=rbf;, score=0.756 total time=   0.0s\n",
      "[CV 1/3] END .....C=100, gamma=0.01, kernel=rbf;, score=0.745 total time=   0.0s\n",
      "[CV 2/3] END .....C=100, gamma=0.01, kernel=rbf;, score=0.723 total time=   0.0s\n",
      "[CV 3/3] END .....C=100, gamma=0.01, kernel=rbf;, score=0.751 total time=   0.1s\n",
      "[CV 1/3] END ....C=100, gamma=0.001, kernel=rbf;, score=0.726 total time=   0.1s\n",
      "[CV 2/3] END ....C=100, gamma=0.001, kernel=rbf;, score=0.728 total time=   0.0s\n",
      "[CV 3/3] END ....C=100, gamma=0.001, kernel=rbf;, score=0.758 total time=   0.0s\n",
      "[CV 1/3] END ...C=100, gamma=0.0001, kernel=rbf;, score=0.534 total time=   0.0s\n",
      "[CV 2/3] END ...C=100, gamma=0.0001, kernel=rbf;, score=0.535 total time=   0.1s\n",
      "[CV 3/3] END ...C=100, gamma=0.0001, kernel=rbf;, score=0.535 total time=   0.0s\n",
      "[CV 1/3] END .......C=1000, gamma=1, kernel=rbf;, score=0.731 total time=   0.3s\n",
      "[CV 2/3] END .......C=1000, gamma=1, kernel=rbf;, score=0.704 total time=   0.4s\n",
      "[CV 3/3] END .......C=1000, gamma=1, kernel=rbf;, score=0.761 total time=   0.3s\n",
      "[CV 1/3] END .....C=1000, gamma=0.1, kernel=rbf;, score=0.754 total time=   0.0s\n",
      "[CV 2/3] END .....C=1000, gamma=0.1, kernel=rbf;, score=0.730 total time=   0.1s\n",
      "[CV 3/3] END .....C=1000, gamma=0.1, kernel=rbf;, score=0.765 total time=   0.0s\n",
      "[CV 1/3] END ....C=1000, gamma=0.01, kernel=rbf;, score=0.738 total time=   0.0s\n",
      "[CV 2/3] END ....C=1000, gamma=0.01, kernel=rbf;, score=0.718 total time=   0.0s\n",
      "[CV 3/3] END ....C=1000, gamma=0.01, kernel=rbf;, score=0.763 total time=   0.0s\n",
      "[CV 1/3] END ...C=1000, gamma=0.001, kernel=rbf;, score=0.742 total time=   0.0s\n",
      "[CV 2/3] END ...C=1000, gamma=0.001, kernel=rbf;, score=0.723 total time=   0.0s\n",
      "[CV 3/3] END ...C=1000, gamma=0.001, kernel=rbf;, score=0.749 total time=   0.0s\n",
      "[CV 1/3] END ..C=1000, gamma=0.0001, kernel=rbf;, score=0.726 total time=   0.0s\n",
      "[CV 2/3] END ..C=1000, gamma=0.0001, kernel=rbf;, score=0.728 total time=   0.0s\n",
      "[CV 3/3] END ..C=1000, gamma=0.0001, kernel=rbf;, score=0.758 total time=   0.0s\n"
     ]
    },
    {
     "data": {
      "text/plain": [
       "Pipeline(steps=[('classifier',\n",
       "                 GridSearchCV(cv=3, estimator=SVC(),\n",
       "                              param_grid={'C': [0.1, 1, 10, 100, 1000],\n",
       "                                          'gamma': [1, 0.1, 0.01, 0.001,\n",
       "                                                    0.0001],\n",
       "                                          'kernel': ['rbf']},\n",
       "                              verbose=3))])"
      ]
     },
     "execution_count": 67,
     "metadata": {},
     "output_type": "execute_result"
    }
   ],
   "source": [
    "pipe5.fit(X_train,y_train)"
   ]
  },
  {
   "cell_type": "code",
   "execution_count": 68,
   "metadata": {},
   "outputs": [
    {
     "data": {
      "text/plain": [
       "0.76875"
      ]
     },
     "execution_count": 68,
     "metadata": {},
     "output_type": "execute_result"
    }
   ],
   "source": [
    "pipe5.score(X_test,y_test)"
   ]
  },
  {
   "cell_type": "code",
   "execution_count": 69,
   "metadata": {},
   "outputs": [],
   "source": [
    "pred = pipe5.predict(X_test)"
   ]
  },
  {
   "cell_type": "code",
   "execution_count": 70,
   "metadata": {},
   "outputs": [
    {
     "data": {
      "text/plain": [
       "0.768170426065163"
      ]
     },
     "execution_count": 70,
     "metadata": {},
     "output_type": "execute_result"
    }
   ],
   "source": [
    "f1_score(y_test, pred, average='macro')"
   ]
  },
  {
   "cell_type": "code",
   "execution_count": null,
   "metadata": {},
   "outputs": [],
   "source": []
  },
  {
   "cell_type": "code",
   "execution_count": null,
   "metadata": {},
   "outputs": [],
   "source": []
  }
 ],
 "metadata": {
  "kernelspec": {
   "display_name": "Python 3",
   "language": "python",
   "name": "python3"
  },
  "language_info": {
   "codemirror_mode": {
    "name": "ipython",
    "version": 3
   },
   "file_extension": ".py",
   "mimetype": "text/x-python",
   "name": "python",
   "nbconvert_exporter": "python",
   "pygments_lexer": "ipython3",
   "version": "3.8.3"
  }
 },
 "nbformat": 4,
 "nbformat_minor": 4
}
